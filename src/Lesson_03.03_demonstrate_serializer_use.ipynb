{
 "cells": [
  {
   "cell_type": "markdown",
   "metadata": {},
   "source": [
    "# Serializer Demonstration\n",
    "\n",
    "This Jupyter notebook expects there to be a database available. Remember to run migrations!\n",
    "\n",
    "Additionally, `djangorestframework-xml` must be installed for this to work correctly. We do not use the package in the rest of the code, so manual installation is required.\n",
    "\n",
    "    pip install 'djangorestframework-xml>=1.3.0' 'defusedxml>=0.5.0'"
   ]
  },
  {
   "cell_type": "code",
   "execution_count": 1,
   "metadata": {},
   "outputs": [],
   "source": [
    "from datetime import date\n",
    "from pprint import pprint\n",
    "from xml.dom.minidom import parseString as xml_parse\n",
    "\n",
    "from rest_framework.renderers import JSONRenderer\n",
    "from rest_framework_xml.renderers import XMLRenderer\n",
    "\n",
    "from organizer.models import NewsLink, Startup, Tag\n",
    "from organizer.serializers import NewsLinkSerializer, StartupSerializer, TagSerializer"
   ]
  },
  {
   "cell_type": "markdown",
   "metadata": {},
   "source": [
    "## Simple Example with Tag Object"
   ]
  },
  {
   "cell_type": "code",
   "execution_count": 2,
   "metadata": {},
   "outputs": [],
   "source": [
    "new_tag = Tag.objects.create(name='django')"
   ]
  },
  {
   "cell_type": "code",
   "execution_count": 3,
   "metadata": {},
   "outputs": [],
   "source": [
    "s_tag = TagSerializer(new_tag)"
   ]
  },
  {
   "cell_type": "code",
   "execution_count": 4,
   "metadata": {},
   "outputs": [
    {
     "data": {
      "text/plain": [
       "TagSerializer(<Tag: django>):\n",
       "    id = IntegerField(read_only=True)\n",
       "    name = CharField(max_length=31)\n",
       "    slug = SlugField(allow_blank=True, max_length=31)"
      ]
     },
     "execution_count": 4,
     "metadata": {},
     "output_type": "execute_result"
    }
   ],
   "source": [
    "s_tag"
   ]
  },
  {
   "cell_type": "code",
   "execution_count": 5,
   "metadata": {
    "scrolled": true
   },
   "outputs": [
    {
     "data": {
      "text/plain": [
       "{'id': 1, 'name': 'django', 'slug': 'django'}"
      ]
     },
     "execution_count": 5,
     "metadata": {},
     "output_type": "execute_result"
    }
   ],
   "source": [
    "s_tag.data"
   ]
  },
  {
   "cell_type": "code",
   "execution_count": 6,
   "metadata": {},
   "outputs": [
    {
     "data": {
      "text/plain": [
       "b'{\"id\":1,\"name\":\"django\",\"slug\":\"django\"}'"
      ]
     },
     "execution_count": 6,
     "metadata": {},
     "output_type": "execute_result"
    }
   ],
   "source": [
    "JSONRenderer().render(s_tag.data)"
   ]
  },
  {
   "cell_type": "code",
   "execution_count": 7,
   "metadata": {
    "scrolled": true
   },
   "outputs": [],
   "source": [
    "def render_json(serialized_object):\n",
    "    \"\"\"Shortcut to make this notebook easier to read\"\"\"\n",
    "    print(\n",
    "        JSONRenderer().render(\n",
    "            serialized_object.data,\n",
    "            accepted_media_type='application/json; indent=4',\n",
    "        ).decode('utf8')\n",
    "    )"
   ]
  },
  {
   "cell_type": "code",
   "execution_count": 8,
   "metadata": {},
   "outputs": [
    {
     "name": "stdout",
     "output_type": "stream",
     "text": [
      "{\n",
      "    \"id\": 1,\n",
      "    \"name\": \"django\",\n",
      "    \"slug\": \"django\"\n",
      "}\n"
     ]
    }
   ],
   "source": [
    "render_json(s_tag)"
   ]
  },
  {
   "cell_type": "code",
   "execution_count": 9,
   "metadata": {},
   "outputs": [
    {
     "data": {
      "text/plain": [
       "'<?xml version=\"1.0\" encoding=\"utf-8\"?>\\n<root><id>1</id><name>django</name><slug>django</slug></root>'"
      ]
     },
     "execution_count": 9,
     "metadata": {},
     "output_type": "execute_result"
    }
   ],
   "source": [
    "XMLRenderer().render(s_tag.data)"
   ]
  },
  {
   "cell_type": "code",
   "execution_count": 10,
   "metadata": {},
   "outputs": [],
   "source": [
    "def render_xml(serialized_object):\n",
    "    \"\"\"Shortcut to make this notebook easier to read\n",
    "    \n",
    "    If you need serious XML handling, compare \n",
    "    LXML to Python's std-lib XML capabilities.\n",
    "    \"\"\"\n",
    "    print(\n",
    "        xml_parse(  # python std-lib\n",
    "            XMLRenderer().render( # Django Rest Framework\n",
    "                serialized_object.data\n",
    "            )  \n",
    "        ).toprettyxml()\n",
    "    )"
   ]
  },
  {
   "cell_type": "code",
   "execution_count": 11,
   "metadata": {},
   "outputs": [
    {
     "name": "stdout",
     "output_type": "stream",
     "text": [
      "<?xml version=\"1.0\" ?>\n",
      "<root>\n",
      "\t<id>1</id>\n",
      "\t<name>django</name>\n",
      "\t<slug>django</slug>\n",
      "</root>\n",
      "\n"
     ]
    }
   ],
   "source": [
    "render_xml(s_tag)"
   ]
  },
  {
   "cell_type": "markdown",
   "metadata": {},
   "source": [
    "## Serialize Object with Relationships"
   ]
  },
  {
   "cell_type": "code",
   "execution_count": 12,
   "metadata": {},
   "outputs": [],
   "source": [
    "jambon = Startup.objects.create(\n",
    "    name='JamBon Software',\n",
    "    slug='jambon-software',\n",
    "    description='Software Consulting & Training for Web and Mobile Products',\n",
    "    founded_date=date(2013, 1, 18),\n",
    "    contact='django@jambonsw.com',\n",
    "    website='https://www.jambonsw.com',\n",
    ")"
   ]
  },
  {
   "cell_type": "code",
   "execution_count": 13,
   "metadata": {},
   "outputs": [],
   "source": [
    "jambon.tags.add(new_tag, Tag.objects.create(name='web'))"
   ]
  },
  {
   "cell_type": "code",
   "execution_count": 14,
   "metadata": {},
   "outputs": [],
   "source": [
    "s_jambon = StartupSerializer(jambon)"
   ]
  },
  {
   "cell_type": "code",
   "execution_count": 15,
   "metadata": {},
   "outputs": [
    {
     "data": {
      "text/plain": [
       "StartupSerializer(<Startup: JamBon Software>):\n",
       "    id = IntegerField(read_only=True)\n",
       "    name = CharField(max_length=31)\n",
       "    slug = SlugField(allow_blank=True, max_length=31)\n",
       "    description = CharField()\n",
       "    founded_date = DateField()\n",
       "    contact = EmailField()\n",
       "    website = URLField(max_length=255)\n",
       "    tags = TagSerializer(many=True):\n",
       "        id = IntegerField(read_only=True)\n",
       "        name = CharField(max_length=31)\n",
       "        slug = SlugField(allow_blank=True, max_length=31)"
      ]
     },
     "execution_count": 15,
     "metadata": {},
     "output_type": "execute_result"
    }
   ],
   "source": [
    "s_jambon"
   ]
  },
  {
   "cell_type": "code",
   "execution_count": 16,
   "metadata": {},
   "outputs": [
    {
     "name": "stdout",
     "output_type": "stream",
     "text": [
      "{'contact': 'django@jambonsw.com',\n",
      " 'description': 'Software Consulting & Training for Web and Mobile Products',\n",
      " 'founded_date': '2013-01-18',\n",
      " 'id': 1,\n",
      " 'name': 'JamBon Software',\n",
      " 'slug': 'jambon-software',\n",
      " 'tags': [OrderedDict([('id', 1), ('name', 'django'), ('slug', 'django')]),\n",
      "          OrderedDict([('id', 2), ('name', 'web'), ('slug', 'web')])],\n",
      " 'website': 'https://www.jambonsw.com'}\n"
     ]
    }
   ],
   "source": [
    "pprint(s_jambon.data)"
   ]
  },
  {
   "cell_type": "code",
   "execution_count": 17,
   "metadata": {},
   "outputs": [
    {
     "name": "stdout",
     "output_type": "stream",
     "text": [
      "{\n",
      "    \"id\": 1,\n",
      "    \"name\": \"JamBon Software\",\n",
      "    \"slug\": \"jambon-software\",\n",
      "    \"description\": \"Software Consulting & Training for Web and Mobile Products\",\n",
      "    \"founded_date\": \"2013-01-18\",\n",
      "    \"contact\": \"django@jambonsw.com\",\n",
      "    \"website\": \"https://www.jambonsw.com\",\n",
      "    \"tags\": [\n",
      "        {\n",
      "            \"id\": 1,\n",
      "            \"name\": \"django\",\n",
      "            \"slug\": \"django\"\n",
      "        },\n",
      "        {\n",
      "            \"id\": 2,\n",
      "            \"name\": \"web\",\n",
      "            \"slug\": \"web\"\n",
      "        }\n",
      "    ]\n",
      "}\n"
     ]
    }
   ],
   "source": [
    "render_json(s_jambon)"
   ]
  },
  {
   "cell_type": "code",
   "execution_count": 18,
   "metadata": {},
   "outputs": [
    {
     "name": "stdout",
     "output_type": "stream",
     "text": [
      "<?xml version=\"1.0\" ?>\n",
      "<root>\n",
      "\t<id>1</id>\n",
      "\t<name>JamBon Software</name>\n",
      "\t<slug>jambon-software</slug>\n",
      "\t<description>Software Consulting &amp; Training for Web and Mobile Products</description>\n",
      "\t<founded_date>2013-01-18</founded_date>\n",
      "\t<contact>django@jambonsw.com</contact>\n",
      "\t<website>https://www.jambonsw.com</website>\n",
      "\t<tags>\n",
      "\t\t<list-item>\n",
      "\t\t\t<id>1</id>\n",
      "\t\t\t<name>django</name>\n",
      "\t\t\t<slug>django</slug>\n",
      "\t\t</list-item>\n",
      "\t\t<list-item>\n",
      "\t\t\t<id>2</id>\n",
      "\t\t\t<name>web</name>\n",
      "\t\t\t<slug>web</slug>\n",
      "\t\t</list-item>\n",
      "\t</tags>\n",
      "</root>\n",
      "\n"
     ]
    }
   ],
   "source": [
    "render_xml(s_jambon)"
   ]
  },
  {
   "cell_type": "code",
   "execution_count": 19,
   "metadata": {},
   "outputs": [],
   "source": [
    "nl = NewsLink(\n",
    "    title='JamBon Software rated best ever',\n",
    "    slug='jambon-best',\n",
    "    pub_date=date(2018,4,1),\n",
    "    link='https://www.xkcd.com/353/',\n",
    "    startup=jambon,\n",
    ")"
   ]
  },
  {
   "cell_type": "code",
   "execution_count": 20,
   "metadata": {},
   "outputs": [],
   "source": [
    "s_nl = NewsLinkSerializer(nl)"
   ]
  },
  {
   "cell_type": "code",
   "execution_count": 21,
   "metadata": {},
   "outputs": [
    {
     "data": {
      "text/plain": [
       "NewsLinkSerializer(<NewsLink: JamBon Software: JamBon Software rated best ever>):\n",
       "    id = IntegerField(read_only=True)\n",
       "    title = CharField(max_length=63)\n",
       "    slug = SlugField(max_length=63)\n",
       "    pub_date = DateField()\n",
       "    link = URLField(max_length=255)\n",
       "    startup = StartupSerializer():\n",
       "        id = IntegerField(read_only=True)\n",
       "        name = CharField(max_length=31)\n",
       "        slug = SlugField(allow_blank=True, max_length=31)\n",
       "        description = CharField()\n",
       "        founded_date = DateField()\n",
       "        contact = EmailField()\n",
       "        website = URLField(max_length=255)\n",
       "        tags = TagSerializer(many=True):\n",
       "            id = IntegerField(read_only=True)\n",
       "            name = CharField(max_length=31)\n",
       "            slug = SlugField(allow_blank=True, max_length=31)"
      ]
     },
     "execution_count": 21,
     "metadata": {},
     "output_type": "execute_result"
    }
   ],
   "source": [
    "s_nl"
   ]
  },
  {
   "cell_type": "code",
   "execution_count": 22,
   "metadata": {},
   "outputs": [
    {
     "name": "stdout",
     "output_type": "stream",
     "text": [
      "{'id': None,\n",
      " 'link': 'https://www.xkcd.com/353/',\n",
      " 'pub_date': '2018-04-01',\n",
      " 'slug': 'jambon-best',\n",
      " 'startup': OrderedDict([('id', 1),\n",
      "                         ('name', 'JamBon Software'),\n",
      "                         ('slug', 'jambon-software'),\n",
      "                         ('description',\n",
      "                          'Software Consulting & Training for Web and Mobile '\n",
      "                          'Products'),\n",
      "                         ('founded_date', '2013-01-18'),\n",
      "                         ('contact', 'django@jambonsw.com'),\n",
      "                         ('website', 'https://www.jambonsw.com'),\n",
      "                         ('tags',\n",
      "                          [OrderedDict([('id', 1),\n",
      "                                        ('name', 'django'),\n",
      "                                        ('slug', 'django')]),\n",
      "                           OrderedDict([('id', 2),\n",
      "                                        ('name', 'web'),\n",
      "                                        ('slug', 'web')])])]),\n",
      " 'title': 'JamBon Software rated best ever'}\n"
     ]
    }
   ],
   "source": [
    "pprint(s_nl.data)"
   ]
  },
  {
   "cell_type": "code",
   "execution_count": 23,
   "metadata": {},
   "outputs": [
    {
     "name": "stdout",
     "output_type": "stream",
     "text": [
      "{\n",
      "    \"id\": null,\n",
      "    \"title\": \"JamBon Software rated best ever\",\n",
      "    \"slug\": \"jambon-best\",\n",
      "    \"pub_date\": \"2018-04-01\",\n",
      "    \"link\": \"https://www.xkcd.com/353/\",\n",
      "    \"startup\": {\n",
      "        \"id\": 1,\n",
      "        \"name\": \"JamBon Software\",\n",
      "        \"slug\": \"jambon-software\",\n",
      "        \"description\": \"Software Consulting & Training for Web and Mobile Products\",\n",
      "        \"founded_date\": \"2013-01-18\",\n",
      "        \"contact\": \"django@jambonsw.com\",\n",
      "        \"website\": \"https://www.jambonsw.com\",\n",
      "        \"tags\": [\n",
      "            {\n",
      "                \"id\": 1,\n",
      "                \"name\": \"django\",\n",
      "                \"slug\": \"django\"\n",
      "            },\n",
      "            {\n",
      "                \"id\": 2,\n",
      "                \"name\": \"web\",\n",
      "                \"slug\": \"web\"\n",
      "            }\n",
      "        ]\n",
      "    }\n",
      "}\n"
     ]
    }
   ],
   "source": [
    "render_json(s_nl)"
   ]
  },
  {
   "cell_type": "code",
   "execution_count": 24,
   "metadata": {},
   "outputs": [
    {
     "name": "stdout",
     "output_type": "stream",
     "text": [
      "<?xml version=\"1.0\" ?>\n",
      "<root>\n",
      "\t<id/>\n",
      "\t<title>JamBon Software rated best ever</title>\n",
      "\t<slug>jambon-best</slug>\n",
      "\t<pub_date>2018-04-01</pub_date>\n",
      "\t<link>https://www.xkcd.com/353/</link>\n",
      "\t<startup>\n",
      "\t\t<id>1</id>\n",
      "\t\t<name>JamBon Software</name>\n",
      "\t\t<slug>jambon-software</slug>\n",
      "\t\t<description>Software Consulting &amp; Training for Web and Mobile Products</description>\n",
      "\t\t<founded_date>2013-01-18</founded_date>\n",
      "\t\t<contact>django@jambonsw.com</contact>\n",
      "\t\t<website>https://www.jambonsw.com</website>\n",
      "\t\t<tags>\n",
      "\t\t\t<list-item>\n",
      "\t\t\t\t<id>1</id>\n",
      "\t\t\t\t<name>django</name>\n",
      "\t\t\t\t<slug>django</slug>\n",
      "\t\t\t</list-item>\n",
      "\t\t\t<list-item>\n",
      "\t\t\t\t<id>2</id>\n",
      "\t\t\t\t<name>web</name>\n",
      "\t\t\t\t<slug>web</slug>\n",
      "\t\t\t</list-item>\n",
      "\t\t</tags>\n",
      "\t</startup>\n",
      "</root>\n",
      "\n"
     ]
    }
   ],
   "source": [
    "render_xml(s_nl)"
   ]
  }
 ],
 "metadata": {
  "kernelspec": {
   "display_name": "Django Shell-Plus",
   "language": "python",
   "name": "django_extensions"
  },
  "language_info": {
   "codemirror_mode": {
    "name": "ipython",
    "version": 3
   },
   "file_extension": ".py",
   "mimetype": "text/x-python",
   "name": "python",
   "nbconvert_exporter": "python",
   "pygments_lexer": "ipython3",
   "version": "3.7.0"
  }
 },
 "nbformat": 4,
 "nbformat_minor": 2
}
