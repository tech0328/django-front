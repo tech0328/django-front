{
 "cells": [
  {
   "cell_type": "markdown",
   "metadata": {},
   "source": [
    "# Create URLs by Reversing URL paths"
   ]
  },
  {
   "cell_type": "code",
   "execution_count": 1,
   "metadata": {},
   "outputs": [],
   "source": [
    "from django.urls import NoReverseMatch, reverse"
   ]
  },
  {
   "cell_type": "code",
   "execution_count": 2,
   "metadata": {},
   "outputs": [
    {
     "data": {
      "text/plain": [
       "'/tag/'"
      ]
     },
     "execution_count": 2,
     "metadata": {},
     "output_type": "execute_result"
    }
   ],
   "source": [
    "reverse(\"tag_list\")  # name of our Tag List URL path"
   ]
  },
  {
   "cell_type": "code",
   "execution_count": 3,
   "metadata": {},
   "outputs": [
    {
     "name": "stdout",
     "output_type": "stream",
     "text": [
      "Reverse for 'tag_detail' with no arguments not found. 1 pattern(s) tried: ['tag/(?P<slug>[^/]+)/$']\n"
     ]
    }
   ],
   "source": [
    "# what about Tag Detail?\n",
    "try:\n",
    "    reverse(\"tag_detail\")\n",
    "except NoReverseMatch as err:\n",
    "    print(err)"
   ]
  },
  {
   "cell_type": "code",
   "execution_count": 4,
   "metadata": {},
   "outputs": [
    {
     "data": {
      "text/plain": [
       "'/tag/slugilicious/'"
      ]
     },
     "execution_count": 4,
     "metadata": {},
     "output_type": "execute_result"
    }
   ],
   "source": [
    "# we must include the Tag's slug!\n",
    "# (or whatever else is needed in the URL)\n",
    "reverse(\n",
    "    \"tag_detail\",\n",
    "    kwargs={\n",
    "        \"slug\": \"slugilicious\"\n",
    "    }\n",
    ")"
   ]
  },
  {
   "cell_type": "code",
   "execution_count": 5,
   "metadata": {},
   "outputs": [
    {
     "data": {
      "text/plain": [
       "'/blog/2018/8/now-recording/'"
      ]
     },
     "execution_count": 5,
     "metadata": {},
     "output_type": "execute_result"
    }
   ],
   "source": [
    "reverse(\n",
    "    \"post_detail\",\n",
    "    kwargs={\n",
    "        \"year\": 2018,\n",
    "        \"month\": 8,\n",
    "        \"slug\": \"now-recording\"\n",
    "    }\n",
    ")"
   ]
  },
  {
   "cell_type": "markdown",
   "metadata": {},
   "source": [
    "## Reverse in Templates"
   ]
  },
  {
   "cell_type": "code",
   "execution_count": 6,
   "metadata": {},
   "outputs": [],
   "source": [
    "from django.template import Context, Template"
   ]
  },
  {
   "cell_type": "code",
   "execution_count": 7,
   "metadata": {},
   "outputs": [
    {
     "data": {
      "text/plain": [
       "'/tag/'"
      ]
     },
     "execution_count": 7,
     "metadata": {},
     "output_type": "execute_result"
    }
   ],
   "source": [
    "code = \"{% url 'tag_list' %}\"\n",
    "template = Template(code)\n",
    "template.render(Context())"
   ]
  },
  {
   "cell_type": "code",
   "execution_count": 8,
   "metadata": {},
   "outputs": [
    {
     "data": {
      "text/plain": [
       "'/tag/slugerific/'"
      ]
     },
     "execution_count": 8,
     "metadata": {},
     "output_type": "execute_result"
    }
   ],
   "source": [
    "code = \"{% url 'tag_detail' slug='slugerific' %}\"\n",
    "template = Template(code)\n",
    "template.render(Context())"
   ]
  },
  {
   "cell_type": "code",
   "execution_count": 9,
   "metadata": {
    "scrolled": true
   },
   "outputs": [
    {
     "data": {
      "text/plain": [
       "'/blog/2018/8/keyboards-are-my-friends/'"
      ]
     },
     "execution_count": 9,
     "metadata": {},
     "output_type": "execute_result"
    }
   ],
   "source": [
    "# the problem is that this gets really long:\n",
    "code = \"{% url 'post_detail' year=2018 month=8 slug='keyboards-are-my-friends' %}\"\n",
    "template = Template(code)\n",
    "template.render(Context())"
   ]
  },
  {
   "cell_type": "markdown",
   "metadata": {},
   "source": [
    "Django instead [recommends](https://docs.djangoproject.com/en/2.1/ref/models/instances/#get-absolute-url) creating a method on models to direct to the canonical URL. Let's do just that!"
   ]
  }
 ],
 "metadata": {
  "kernelspec": {
   "display_name": "Django Shell-Plus",
   "language": "python",
   "name": "django_extensions"
  },
  "language_info": {
   "codemirror_mode": {
    "name": "ipython",
    "version": 3
   },
   "file_extension": ".py",
   "mimetype": "text/x-python",
   "name": "python",
   "nbconvert_exporter": "python",
   "pygments_lexer": "ipython3",
   "version": "3.7.0"
  }
 },
 "nbformat": 4,
 "nbformat_minor": 2
}
